{
 "cells": [
  {
   "cell_type": "code",
   "execution_count": 1,
   "id": "4a2bc2b9-e39b-48ea-9251-b1c974f02190",
   "metadata": {},
   "outputs": [],
   "source": [
    "import pandas as pd\n",
    "import numpy as np\n",
    "from sklearn.model_selection import train_test_split\n",
    "from sklearn.preprocessing import StandardScaler, LabelEncoder\n",
    "from sklearn.feature_selection import SelectKBest, f_classif, VarianceThreshold\n",
    "from tensorflow.keras.models import Sequential\n",
    "from tensorflow.keras.layers import Conv2D, MaxPooling2D, Flatten, Dense, Input, Dropout, BatchNormalization\n",
    "from tensorflow.keras.utils import to_categorical\n",
    "from tensorflow.keras.callbacks import EarlyStopping\n",
    "from tensorflow.keras.optimizers import Adam\n",
    "from sklearn.utils import class_weight\n",
    "from tensorflow.keras import layers, models"
   ]
  },
  {
   "cell_type": "code",
   "execution_count": 2,
   "id": "15501237-05a7-425d-af24-64e6f626542c",
   "metadata": {},
   "outputs": [],
   "source": [
    "data = pd.read_csv('Trojan_Detection.csv')"
   ]
  },
  {
   "cell_type": "code",
   "execution_count": 3,
   "id": "ab40c091-79af-45c4-8e2b-8b6767cac38f",
   "metadata": {},
   "outputs": [],
   "source": [
    "from sklearn.preprocessing import LabelEncoder\n",
    "categorical_columns = ['Flow ID', ' Source IP', ' Destination IP', ' Timestamp'] \n",
    "label_encoder = LabelEncoder()\n",
    "for column in categorical_columns:\n",
    "    data[column] = label_encoder.fit_transform(data[column])"
   ]
  },
  {
   "cell_type": "code",
   "execution_count": 4,
   "id": "88be754d-7d7f-49db-b296-2b811072cce6",
   "metadata": {},
   "outputs": [],
   "source": [
    "data['Class'] = data['Class'].map({'Benign': 0, 'Trojan': 1})"
   ]
  },
  {
   "cell_type": "code",
   "execution_count": 5,
   "id": "616862f3-19d9-45c8-b67a-6360521a356f",
   "metadata": {},
   "outputs": [
    {
     "data": {
      "text/html": [
       "<div>\n",
       "<style scoped>\n",
       "    .dataframe tbody tr th:only-of-type {\n",
       "        vertical-align: middle;\n",
       "    }\n",
       "\n",
       "    .dataframe tbody tr th {\n",
       "        vertical-align: top;\n",
       "    }\n",
       "\n",
       "    .dataframe thead th {\n",
       "        text-align: right;\n",
       "    }\n",
       "</style>\n",
       "<table border=\"1\" class=\"dataframe\">\n",
       "  <thead>\n",
       "    <tr style=\"text-align: right;\">\n",
       "      <th></th>\n",
       "      <th>Unnamed: 0</th>\n",
       "      <th>Flow ID</th>\n",
       "      <th>Source IP</th>\n",
       "      <th>Source Port</th>\n",
       "      <th>Destination IP</th>\n",
       "      <th>Destination Port</th>\n",
       "      <th>Protocol</th>\n",
       "      <th>Timestamp</th>\n",
       "      <th>Flow Duration</th>\n",
       "      <th>Total Fwd Packets</th>\n",
       "      <th>...</th>\n",
       "      <th>min_seg_size_forward</th>\n",
       "      <th>Active Mean</th>\n",
       "      <th>Active Std</th>\n",
       "      <th>Active Max</th>\n",
       "      <th>Active Min</th>\n",
       "      <th>Idle Mean</th>\n",
       "      <th>Idle Std</th>\n",
       "      <th>Idle Max</th>\n",
       "      <th>Idle Min</th>\n",
       "      <th>Class</th>\n",
       "    </tr>\n",
       "  </thead>\n",
       "  <tbody>\n",
       "    <tr>\n",
       "      <th>0</th>\n",
       "      <td>73217</td>\n",
       "      <td>46111</td>\n",
       "      <td>7</td>\n",
       "      <td>49975</td>\n",
       "      <td>352</td>\n",
       "      <td>80</td>\n",
       "      <td>6</td>\n",
       "      <td>36269</td>\n",
       "      <td>10743584</td>\n",
       "      <td>4</td>\n",
       "      <td>...</td>\n",
       "      <td>20</td>\n",
       "      <td>0.0</td>\n",
       "      <td>0.0</td>\n",
       "      <td>0.0</td>\n",
       "      <td>0.0</td>\n",
       "      <td>0.0</td>\n",
       "      <td>0.0</td>\n",
       "      <td>0.0</td>\n",
       "      <td>0.0</td>\n",
       "      <td>1</td>\n",
       "    </tr>\n",
       "    <tr>\n",
       "      <th>1</th>\n",
       "      <td>72089</td>\n",
       "      <td>74905</td>\n",
       "      <td>7</td>\n",
       "      <td>49169</td>\n",
       "      <td>895</td>\n",
       "      <td>443</td>\n",
       "      <td>17</td>\n",
       "      <td>39241</td>\n",
       "      <td>254217</td>\n",
       "      <td>6</td>\n",
       "      <td>...</td>\n",
       "      <td>20</td>\n",
       "      <td>0.0</td>\n",
       "      <td>0.0</td>\n",
       "      <td>0.0</td>\n",
       "      <td>0.0</td>\n",
       "      <td>0.0</td>\n",
       "      <td>0.0</td>\n",
       "      <td>0.0</td>\n",
       "      <td>0.0</td>\n",
       "      <td>1</td>\n",
       "    </tr>\n",
       "    <tr>\n",
       "      <th>2</th>\n",
       "      <td>96676</td>\n",
       "      <td>9217</td>\n",
       "      <td>7</td>\n",
       "      <td>37749</td>\n",
       "      <td>7</td>\n",
       "      <td>53</td>\n",
       "      <td>17</td>\n",
       "      <td>42069</td>\n",
       "      <td>1023244</td>\n",
       "      <td>1</td>\n",
       "      <td>...</td>\n",
       "      <td>32</td>\n",
       "      <td>0.0</td>\n",
       "      <td>0.0</td>\n",
       "      <td>0.0</td>\n",
       "      <td>0.0</td>\n",
       "      <td>0.0</td>\n",
       "      <td>0.0</td>\n",
       "      <td>0.0</td>\n",
       "      <td>0.0</td>\n",
       "      <td>0</td>\n",
       "    </tr>\n",
       "    <tr>\n",
       "      <th>3</th>\n",
       "      <td>42891</td>\n",
       "      <td>10418</td>\n",
       "      <td>7</td>\n",
       "      <td>41352</td>\n",
       "      <td>7</td>\n",
       "      <td>53</td>\n",
       "      <td>17</td>\n",
       "      <td>29885</td>\n",
       "      <td>286483</td>\n",
       "      <td>1</td>\n",
       "      <td>...</td>\n",
       "      <td>20</td>\n",
       "      <td>0.0</td>\n",
       "      <td>0.0</td>\n",
       "      <td>0.0</td>\n",
       "      <td>0.0</td>\n",
       "      <td>0.0</td>\n",
       "      <td>0.0</td>\n",
       "      <td>0.0</td>\n",
       "      <td>0.0</td>\n",
       "      <td>1</td>\n",
       "    </tr>\n",
       "    <tr>\n",
       "      <th>4</th>\n",
       "      <td>169326</td>\n",
       "      <td>20763</td>\n",
       "      <td>5</td>\n",
       "      <td>44353</td>\n",
       "      <td>220</td>\n",
       "      <td>443</td>\n",
       "      <td>6</td>\n",
       "      <td>16589</td>\n",
       "      <td>65633087</td>\n",
       "      <td>12</td>\n",
       "      <td>...</td>\n",
       "      <td>32</td>\n",
       "      <td>322594.0</td>\n",
       "      <td>0.0</td>\n",
       "      <td>322594.0</td>\n",
       "      <td>322594.0</td>\n",
       "      <td>60306983.0</td>\n",
       "      <td>0.0</td>\n",
       "      <td>60306983.0</td>\n",
       "      <td>60306983.0</td>\n",
       "      <td>0</td>\n",
       "    </tr>\n",
       "  </tbody>\n",
       "</table>\n",
       "<p>5 rows × 86 columns</p>\n",
       "</div>"
      ],
      "text/plain": [
       "   Unnamed: 0  Flow ID   Source IP   Source Port   Destination IP  \\\n",
       "0       73217    46111           7         49975              352   \n",
       "1       72089    74905           7         49169              895   \n",
       "2       96676     9217           7         37749                7   \n",
       "3       42891    10418           7         41352                7   \n",
       "4      169326    20763           5         44353              220   \n",
       "\n",
       "    Destination Port   Protocol   Timestamp   Flow Duration  \\\n",
       "0                 80          6       36269        10743584   \n",
       "1                443         17       39241          254217   \n",
       "2                 53         17       42069         1023244   \n",
       "3                 53         17       29885          286483   \n",
       "4                443          6       16589        65633087   \n",
       "\n",
       "    Total Fwd Packets  ...   min_seg_size_forward  Active Mean   Active Std  \\\n",
       "0                   4  ...                     20          0.0          0.0   \n",
       "1                   6  ...                     20          0.0          0.0   \n",
       "2                   1  ...                     32          0.0          0.0   \n",
       "3                   1  ...                     20          0.0          0.0   \n",
       "4                  12  ...                     32     322594.0          0.0   \n",
       "\n",
       "    Active Max   Active Min   Idle Mean   Idle Std    Idle Max    Idle Min  \\\n",
       "0          0.0          0.0         0.0        0.0         0.0         0.0   \n",
       "1          0.0          0.0         0.0        0.0         0.0         0.0   \n",
       "2          0.0          0.0         0.0        0.0         0.0         0.0   \n",
       "3          0.0          0.0         0.0        0.0         0.0         0.0   \n",
       "4     322594.0     322594.0  60306983.0        0.0  60306983.0  60306983.0   \n",
       "\n",
       "   Class  \n",
       "0      1  \n",
       "1      1  \n",
       "2      0  \n",
       "3      1  \n",
       "4      0  \n",
       "\n",
       "[5 rows x 86 columns]"
      ]
     },
     "execution_count": 5,
     "metadata": {},
     "output_type": "execute_result"
    }
   ],
   "source": [
    "data.head()"
   ]
  },
  {
   "cell_type": "code",
   "execution_count": 6,
   "id": "61c90f30-ce72-4ce2-b828-5c17ac8e6fa5",
   "metadata": {},
   "outputs": [],
   "source": [
    "# Drop columns not used for training\n",
    "X = data.drop(columns=['Class'])\n",
    "y = data['Class']"
   ]
  },
  {
   "cell_type": "code",
   "execution_count": 7,
   "id": "9825dc8c-8e3e-4e94-ab18-850c82f8c6f1",
   "metadata": {},
   "outputs": [],
   "source": [
    "# Normalize the features\n",
    "scaler = StandardScaler()\n",
    "X_scaled = scaler.fit_transform(X)"
   ]
  },
  {
   "cell_type": "code",
   "execution_count": 8,
   "id": "f5773785-df37-40fa-8055-bd1ce94cae50",
   "metadata": {},
   "outputs": [],
   "source": [
    "# Remove constant features\n",
    "constant_filter = VarianceThreshold(threshold=0)\n",
    "X_filtered = constant_filter.fit_transform(X_scaled)"
   ]
  },
  {
   "cell_type": "code",
   "execution_count": 9,
   "id": "49edcaea-bb19-4226-88b6-1b53b5e3e19f",
   "metadata": {},
   "outputs": [],
   "source": [
    "k_best_features = 16  # Example: 16 is a perfect square (4x4)\n",
    "\n",
    "# Feature selection using SelectKBest\n",
    "selector = SelectKBest(score_func=f_classif, k=k_best_features)\n",
    "X_selected = selector.fit_transform(X_filtered, y)"
   ]
  },
  {
   "cell_type": "code",
   "execution_count": 10,
   "id": "ebe31197-c7e0-4fcd-8f60-488e7d31a097",
   "metadata": {},
   "outputs": [],
   "source": [
    "# Get the selected feature indices\n",
    "selected_feature_indices = selector.get_support(indices=True)\n",
    "selected_features = X.columns[selected_feature_indices]"
   ]
  },
  {
   "cell_type": "code",
   "execution_count": 11,
   "id": "d9624aba-e13a-42cc-ae66-a9cb0999e26a",
   "metadata": {},
   "outputs": [
    {
     "name": "stdout",
     "output_type": "stream",
     "text": [
      "Selected features: Index(['Unnamed: 0', 'Flow ID', ' Destination IP', ' Timestamp',\n",
      "       ' Flow Duration', ' Fwd Packet Length Max', 'Fwd IAT Total',\n",
      "       ' Fwd IAT Max', ' Fwd Header Length', ' Bwd Header Length',\n",
      "       ' Fwd Avg Bulk Rate', ' Bwd Avg Packets/Bulk', 'Bwd Avg Bulk Rate',\n",
      "       'Subflow Fwd Packets', ' Subflow Bwd Packets', ' Subflow Bwd Bytes'],\n",
      "      dtype='object')\n"
     ]
    }
   ],
   "source": [
    "# Print selected features\n",
    "print(\"Selected features:\", selected_features)"
   ]
  },
  {
   "cell_type": "code",
   "execution_count": 12,
   "id": "2d7c066d-2aca-4c13-9713-c10287647739",
   "metadata": {},
   "outputs": [],
   "source": [
    "# Reshape the data for CNN\n",
    "image_size = int(np.sqrt(k_best_features))  # Assuming we want a square \"image\"\n",
    "X_reshaped = X_selected.reshape(X_selected.shape[0], image_size, image_size, 1)"
   ]
  },
  {
   "cell_type": "code",
   "execution_count": 13,
   "id": "493cd5bd-ee79-4e3b-ab4e-26f0cb196f79",
   "metadata": {},
   "outputs": [],
   "source": [
    "# Split the data into training and testing sets\n",
    "X_train, X_test, y_train, y_test = train_test_split(X_reshaped, y, test_size=0.2, random_state=42)"
   ]
  },
  {
   "cell_type": "code",
   "execution_count": 14,
   "id": "b645722c-5491-4330-aa27-f5dab21e7cff",
   "metadata": {},
   "outputs": [],
   "source": [
    "# Convert labels to categorical\n",
    "y_train_cat = to_categorical(y_train)\n",
    "y_test_cat = to_categorical(y_test)"
   ]
  },
  {
   "cell_type": "code",
   "execution_count": 25,
   "id": "87efe220-ddb5-451e-a1c3-cb4c3a6ba28d",
   "metadata": {},
   "outputs": [],
   "source": [
    "model = Sequential([\n",
    "    Input(shape=(image_size, image_size, 1)),\n",
    "    Conv2D(16, (3, 3), activation='relu'),\n",
    "    MaxPooling2D((2, 2)),\n",
    "    Flatten(),\n",
    "    Dense(64, activation='relu'),\n",
    "    Dropout(0.5),\n",
    "    Dense(2, activation='softmax')\n",
    "])\n"
   ]
  },
  {
   "cell_type": "code",
   "execution_count": 26,
   "id": "3d6d79da-6ebe-4da3-ba4f-78a4bcef7fa1",
   "metadata": {},
   "outputs": [],
   "source": [
    "model.compile(optimizer='adam', loss='categorical_crossentropy', metrics=['accuracy'])"
   ]
  },
  {
   "cell_type": "code",
   "execution_count": 27,
   "id": "2e381d10-2adc-4fd8-a4b6-1bdbb3eed20f",
   "metadata": {},
   "outputs": [
    {
     "name": "stdout",
     "output_type": "stream",
     "text": [
      "Epoch 1/10\n",
      "\u001b[1m3550/3550\u001b[0m \u001b[32m━━━━━━━━━━━━━━━━━━━━\u001b[0m\u001b[37m\u001b[0m \u001b[1m10s\u001b[0m 2ms/step - accuracy: 0.8926 - loss: 0.2584 - val_accuracy: 0.9748 - val_loss: 0.0769\n",
      "Epoch 2/10\n",
      "\u001b[1m3550/3550\u001b[0m \u001b[32m━━━━━━━━━━━━━━━━━━━━\u001b[0m\u001b[37m\u001b[0m \u001b[1m7s\u001b[0m 2ms/step - accuracy: 0.9725 - loss: 0.0807 - val_accuracy: 0.9832 - val_loss: 0.0499\n",
      "Epoch 3/10\n",
      "\u001b[1m3550/3550\u001b[0m \u001b[32m━━━━━━━━━━━━━━━━━━━━\u001b[0m\u001b[37m\u001b[0m \u001b[1m7s\u001b[0m 2ms/step - accuracy: 0.9803 - loss: 0.0594 - val_accuracy: 0.9870 - val_loss: 0.0394\n",
      "Epoch 4/10\n",
      "\u001b[1m3550/3550\u001b[0m \u001b[32m━━━━━━━━━━━━━━━━━━━━\u001b[0m\u001b[37m\u001b[0m \u001b[1m7s\u001b[0m 2ms/step - accuracy: 0.9838 - loss: 0.0509 - val_accuracy: 0.9883 - val_loss: 0.0346\n",
      "Epoch 5/10\n",
      "\u001b[1m3550/3550\u001b[0m \u001b[32m━━━━━━━━━━━━━━━━━━━━\u001b[0m\u001b[37m\u001b[0m \u001b[1m9s\u001b[0m 2ms/step - accuracy: 0.9850 - loss: 0.0449 - val_accuracy: 0.9892 - val_loss: 0.0325\n",
      "Epoch 6/10\n",
      "\u001b[1m3550/3550\u001b[0m \u001b[32m━━━━━━━━━━━━━━━━━━━━\u001b[0m\u001b[37m\u001b[0m \u001b[1m7s\u001b[0m 2ms/step - accuracy: 0.9870 - loss: 0.0408 - val_accuracy: 0.9907 - val_loss: 0.0253\n",
      "Epoch 7/10\n",
      "\u001b[1m3550/3550\u001b[0m \u001b[32m━━━━━━━━━━━━━━━━━━━━\u001b[0m\u001b[37m\u001b[0m \u001b[1m7s\u001b[0m 2ms/step - accuracy: 0.9879 - loss: 0.0383 - val_accuracy: 0.9909 - val_loss: 0.0271\n",
      "Epoch 8/10\n",
      "\u001b[1m3550/3550\u001b[0m \u001b[32m━━━━━━━━━━━━━━━━━━━━\u001b[0m\u001b[37m\u001b[0m \u001b[1m8s\u001b[0m 2ms/step - accuracy: 0.9886 - loss: 0.0349 - val_accuracy: 0.9891 - val_loss: 0.0294\n",
      "Epoch 9/10\n",
      "\u001b[1m3550/3550\u001b[0m \u001b[32m━━━━━━━━━━━━━━━━━━━━\u001b[0m\u001b[37m\u001b[0m \u001b[1m10s\u001b[0m 3ms/step - accuracy: 0.9889 - loss: 0.0327 - val_accuracy: 0.9930 - val_loss: 0.0207\n",
      "Epoch 10/10\n",
      "\u001b[1m3550/3550\u001b[0m \u001b[32m━━━━━━━━━━━━━━━━━━━━\u001b[0m\u001b[37m\u001b[0m \u001b[1m7s\u001b[0m 2ms/step - accuracy: 0.9905 - loss: 0.0297 - val_accuracy: 0.9915 - val_loss: 0.0231\n"
     ]
    },
    {
     "data": {
      "text/plain": [
       "<keras.src.callbacks.history.History at 0x22f61c33b50>"
      ]
     },
     "execution_count": 27,
     "metadata": {},
     "output_type": "execute_result"
    }
   ],
   "source": [
    "early_stopping = EarlyStopping(monitor='val_loss', patience=3, restore_best_weights=True)\n",
    "\n",
    "# Fit the model\n",
    "model.fit(X_train, y_train_cat, epochs=10, batch_size=32, validation_split=0.2, callbacks=[early_stopping])"
   ]
  },
  {
   "cell_type": "code",
   "execution_count": 169,
   "id": "8ba73993-909f-4a89-8032-c6d0b12186a6",
   "metadata": {},
   "outputs": [
    {
     "name": "stdout",
     "output_type": "stream",
     "text": [
      "\u001b[1m1110/1110\u001b[0m \u001b[32m━━━━━━━━━━━━━━━━━━━━\u001b[0m\u001b[37m\u001b[0m \u001b[1m3s\u001b[0m 2ms/step - accuracy: 0.9898 - loss: 0.0277\n",
      "Test Accuracy: 0.9898582696914673\n"
     ]
    }
   ],
   "source": [
    "test_loss, test_accuracy = model.evaluate(X_test, y_test_cat)\n",
    "print(\"Test Accuracy:\", test_accuracy)"
   ]
  },
  {
   "cell_type": "code",
   "execution_count": null,
   "id": "95c40cdc-2677-46dc-9275-b7fa6c253ecc",
   "metadata": {},
   "outputs": [],
   "source": []
  }
 ],
 "metadata": {
  "kernelspec": {
   "display_name": "Python 3 (ipykernel)",
   "language": "python",
   "name": "python3"
  },
  "language_info": {
   "codemirror_mode": {
    "name": "ipython",
    "version": 3
   },
   "file_extension": ".py",
   "mimetype": "text/x-python",
   "name": "python",
   "nbconvert_exporter": "python",
   "pygments_lexer": "ipython3",
   "version": "3.11.7"
  }
 },
 "nbformat": 4,
 "nbformat_minor": 5
}
